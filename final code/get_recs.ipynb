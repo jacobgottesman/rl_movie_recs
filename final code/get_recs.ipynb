{
 "cells": [
  {
   "cell_type": "code",
   "execution_count": 2,
   "metadata": {},
   "outputs": [],
   "source": [
    "import pandas as pd\n",
    "import numpy as np"
   ]
  },
  {
   "cell_type": "code",
   "execution_count": 3,
   "metadata": {},
   "outputs": [],
   "source": [
    "movies = pd.read_csv('movies_2428.csv')\n",
    "Q = pd.read_csv('newqtable4.csv')\n",
    "Q = np.array(Q.drop(columns=['Unnamed: 0']))"
   ]
  },
  {
   "cell_type": "code",
   "execution_count": 4,
   "metadata": {},
   "outputs": [],
   "source": [
    "def get_recomendations(Q, movies, movie_list, num_recs = 5):\n",
    "    # get recomendations for any number of input movies\n",
    "\n",
    "    user_movs = Q[movie_list,:]\n",
    "    rec_indexes = np.argpartition(-np.sum(user_movs, axis=0), kth=(num_recs+len(movie_list)))[:num_recs+len(movie_list)]\n",
    "    movie_recs = movies[(movies['movieId'].isin(rec_indexes))&~(movies['movieId'].isin(movie_list))]['title']\n",
    "    return movie_recs[:num_recs]"
   ]
  },
  {
   "cell_type": "code",
   "execution_count": 10,
   "metadata": {},
   "outputs": [
    {
     "name": "stdout",
     "output_type": "stream",
     "text": [
      "173     Shawshank Redemption, The (1994)\n",
      "372                Godfather, The (1972)\n",
      "1862                Batman Begins (2005)\n",
      "2039                     Iron Man (2008)\n",
      "2159                    Inception (2010)\n",
      "Name: title, dtype: object\n"
     ]
    }
   ],
   "source": [
    "# You can use this to get recomendations for any number of input movies\n",
    "# use the csv file movies_2428.csv to find the movie ids for the movies that you would like to input\n",
    "# I have used my 5 favorite movies as an example (interstellar, the dark knight, the avengers, fight club and the lion king)\n",
    "\n",
    "print(get_recomendations(Q, movies, [2314, 2035, 2219, 858, 198]))"
   ]
  }
 ],
 "metadata": {
  "kernelspec": {
   "display_name": "Python 3",
   "language": "python",
   "name": "python3"
  },
  "language_info": {
   "codemirror_mode": {
    "name": "ipython",
    "version": 3
   },
   "file_extension": ".py",
   "mimetype": "text/x-python",
   "name": "python",
   "nbconvert_exporter": "python",
   "pygments_lexer": "ipython3",
   "version": "3.9.17"
  }
 },
 "nbformat": 4,
 "nbformat_minor": 2
}
